{
 "cells": [
  {
   "cell_type": "markdown",
   "metadata": {},
   "source": [
    "### Chapter 6.4\n",
    "# GI/GI/1 Idle Time Distribution\n",
    "---\n",
    ">(c) Tobias Hossfeld  (Aug 2021)<br><br>\n",
    "> This script and the figures are part of the following book. The book is to be cited whenever the script is used (copyright CC BY-SA 4.0):<br>\n",
    "> *Tran-Gia, P. & Hossfeld, T. (2021). \n",
    "Performance Modeling and Analysis of Communication Networks - A Lecture Note.\n",
    "Würzburg University Press.*\n",
    "> *https://doi.org/10.25972/WUP-978-3-95826-153-2*\n",
    "\n",
    "---\n",
    "\n",
    "In a GI/GI/n queueing system, the long-term average fraction of idle time for any server is $(1-\\rho)$. Consider here the duration of an idle period for the GI/GI/1 queue which is denoted by the random variable $I$. It is tempting to assume that (a) the long-term average fraction of idle time $(1-\\rho)$ during two arrivals with mean interarrival time $E[A]$ and (b) the expected idle time $E[I]$ are identical. However, this relation is not valid, since the idle time only manifests after the end of a busy period (composed of several service times and smaller interarrival times; a larger interarrival time ends the busy period and yields an idle period). In fact, the following inequality holds:\n",
    "\n",
    "$ \\displaystyle\n",
    "E[I] \\; \\geq \\; E[A]-E[B] = (1-\\rho)E[A]\n",
    "$\n",
    "\n",
    "We use the following notation for the random variables (r.v.):\n",
    "\n",
    "| <div style=\"width:1px\">r.v.</div> | <div style=\"width:400px\">explanation</div> |\n",
    "| :-| :----------------------------------------------------------------------- | \n",
    "|$A_n$  |  interarrival time between customer $n$ and customer $n+1$,|\n",
    "|$B_n$  | service time of the $n$-th customer, |\n",
    "|$U_n^-$ | unfinished work immediately *before* the arrival of the $n$-th customer, |\n",
    "|$U_n^+$ | unfinished work immediately *after* the arrival of the $n$-th customer, |\n",
    "|$U_{n+1}^v$ | *virtual unfinished work* immediately before the arrival of the customer $n+1$. |\n",
    "\n",
    " \n",
    "## Computation of the Idle Time Distribution\n",
    "The idle time $I_n$ after the completion of the $n$-th customer is a conditional r.v. which is simply the negative part ($k<0$) of the virtual unfinished work $U^v_{n+1}$ immediately before the arrival of the customer $n + 1$. Let us define $Y_{n+1}$ as the difference between the interarrival time $A_n$ and the unfinished work $U_n^+$ immediately after arrival of customer $n$. Then the idle time $I_n$ is the conditional r.v. that there is a positive idle time (otherwise, for $Y_n\\leq 0$, the system is in a busy period). Hence, $I_n=Y_n | Y_n>0$.\n",
    "\n",
    "$ \\displaystyle\n",
    " U^v_{n+1} = U_n^+ - A_n = U_n^- + B_n-A_n \\\\\n",
    " Y_{n} = -U^v_{n+1} = A_n - (U_n^- + B_n) \\\\\n",
    " I_{n} =  Y_{n} | Y_{n}>0 \\\\\n",
    " i_{n}(k) = \\begin{cases} \\displaystyle\n",
    "\\frac{a_n(k) * u_n(-k) * b_n(-k) }{ P(Y_{n}>0)} & \\text{ for } k>0 \\\\\n",
    "0 & \\text{otherwise}\n",
    "\\end{cases}\n",
    "$"
   ]
  },
  {
   "cell_type": "code",
   "execution_count": 31,
   "metadata": {},
   "outputs": [
    {
     "name": "stdout",
     "output_type": "stream",
     "text": [
      "System utilization: rho=0.90\n"
     ]
    }
   ],
   "source": [
    "from matplotlib import pyplot as plt\n",
    "import numpy as np\n",
    "from discreteTimeAnalysis import *\n",
    "import math\n",
    "\n",
    "A = DU(1,9) # interarrival time\n",
    "B = DU(2,7) # service time\n",
    "\n",
    "C = B-A\n",
    "negC = A-B\n",
    "\n",
    "rho = B.mean()/A.mean()\n",
    "print(f'System utilization: rho={rho:.2f}');"
   ]
  },
  {
   "cell_type": "markdown",
   "metadata": {},
   "source": [
    "## Iterative Computation \n",
    "We iteratively compute the idle time distribution, until the distribution $I$ reaches the steady state."
   ]
  },
  {
   "cell_type": "code",
   "execution_count": 46,
   "metadata": {},
   "outputs": [
    {
     "data": {
      "image/png": "[encoded data removed]",
      "text/plain": [
       "<Figure size 432x288 with 1 Axes>"
      ]
     },
     "metadata": {
      "needs_background": "light"
     },
     "output_type": "display_data"
    }
   ],
   "source": [
    "Un1 = DET(0) # empty system\n",
    "Un = DET(1)  # just for initialization\n",
    "\n",
    "condition = lambda k: k>0\n",
    "# iterative computation\n",
    "while Un != Un1: # comparison based on means of the distributions\n",
    "    Un = Un1    \n",
    "    Yn = negC-Un\n",
    "    In = Yn | condition\n",
    "    Un1 = max( Un+C ,0)\n",
    "\n",
    "In.plotCDF(label='I')\n",
    "Yn.plotCDF(label='Y')\n",
    "plt.grid(which='major')\n",
    "plt.xlim([-10, 10])\n",
    "plt.xlabel('i')\n",
    "plt.ylabel('probability')\n",
    "plt.legend();"
   ]
  },
  {
   "cell_type": "markdown",
   "metadata": {},
   "source": [
    "## Interdeparture Time\n",
    "\n",
    "The following mixture distribution characterizes the interdeparture time $D_n$:\n",
    "\n",
    "$ \\displaystyle\n",
    " D_n = \\begin{cases}\n",
    " I_n + B_n & \\text{with probability } \\; p_I\\\\\n",
    "  B_n & \\text{with probability } \\; 1-p_I\n",
    "\\end{cases}\n",
    "$\n",
    "\n",
    "with probability mass function\n",
    "\n",
    "$ \\displaystyle\n",
    " d_n(k) = p_I  (i_n(k)*b_n(k)) + (1-p_I) b_n(k) \\; .\n",
    "$\n",
    "\n",
    "Note that the probability that an arriving customer finds the system empty is then also $p_I = 1-p_W = w(0)$ with the waiting time $W$ corresponding to the unfinished work $U$. It is\n",
    "\n",
    "$ \\displaystyle\n",
    "p_I = \\frac{E[A]-E[B]}{E[I]}\n",
    "$\n"
   ]
  },
  {
   "cell_type": "code",
   "execution_count": 47,
   "metadata": {},
   "outputs": [
    {
     "name": "stdout",
     "output_type": "stream",
     "text": [
      "p_I  = 0.17901445668020782\n",
      "w(0) = [0.23396372]\n"
     ]
    }
   ],
   "source": [
    "pI = (A.mean()-B.mean())/In.mean()\n",
    "w0 = Un.cdf(0)\n",
    "\n",
    "print(f'p_I  = {pI}')\n",
    "print(f'w(0) = {w0}')"
   ]
  }
 ],
 "metadata": {
  "ipub": {
   "titlepage": {
    "author": "Tobias Hossfeld",
    "email": "tobias.hossfeld@uni-wuerzburg.de",
    "institution": "University of W\\\"urzburg, Germany",
    "subtitle": "Chapter 6.4 GI/GI/1 Waiting Time Distribution",
    "tagline": "https://doi.org/10.25972/WUP-978-3-95826-153-2",
    "title": "Performance Modeling and Analysis of Communication Networks - A Lecture Note"
   }
  },
  "kernelspec": {
   "display_name": "Python 3",
   "language": "python",
   "name": "python3"
  },
  "language_info": {
   "codemirror_mode": {
    "name": "ipython",
    "version": 3
   },
   "file_extension": ".py",
   "mimetype": "text/x-python",
   "name": "python",
   "nbconvert_exporter": "python",
   "pygments_lexer": "ipython3",
   "version": "3.7.10"
  }
 },
 "nbformat": 4,
 "nbformat_minor": 2
}
