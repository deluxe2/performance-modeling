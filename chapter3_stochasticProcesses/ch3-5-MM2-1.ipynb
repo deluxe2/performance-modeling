{
 "cells": [
  {
   "cell_type": "markdown",
   "metadata": {},
   "source": [
    "### Chapter 3.5 \n",
    "# M(x)/M/2-1 Delay-Loss System with State-dependent Arrival Rates\n",
    "\n",
    "---\n",
    ">(c) Tobias Hossfeld  (Aug 2021)<br><br>\n",
    "> This script and the figures are part of the following book. The book is to be cited whenever the script is used (copyright CC BY-SA 4.0):<br>\n",
    "> *Tran-Gia, P. & Hossfeld, T. (2021). \n",
    "Performance Modeling and Analysis of Communication Networks - A Lecture Note.\n",
    "Würzburg University Press.*\n",
    "> *https://doi.org/10.25972/WUP-978-3-95826-153-2*\n",
    "\n",
    "---\n",
    "\n",
    "We consider a delay loss system with 2 servers. If all $K$ servers are occupied, incoming arrivals are rejected. The interarrival times $A_i$ are negative exponentially distributed with rate $\\lambda_i$ when the system is in state $[X=i]$ for $i=0,\\dots,K$. The service time of a job follows an exponential distribution with rate $\\mu$. There is a single waiting place.\n",
    "\n",
    "The state-dependent arrival rates are denoted with M(x) - or sometimes M$_x$ - in Kendall's notation: M(x)/M/2-1 \n",
    "\n",
    "\n",
    "## Analysis of the System\n",
    "The system is a Markovian system. To be more precise, we have a birth-and-death process, since transitions occur only between neighboring states. The state of the system is the number $X$ of jobs in the system. \n",
    "\n",
    "The transition rate $[X=i] \\to [X=i+1]$ corresponds to the state-dependent arrival rate and we assume: \n",
    "\n",
    "$\\lambda_i = (i+1) \\lambda$ for a given $\\lambda$ and $i=0,\\dots,K$.\n",
    "\n",
    "### Rate Matrix $Q$\n",
    "The transition rate matrix is\n",
    "\n",
    "$\n",
    "Q = \\left(\\begin{array}{cccc}\n",
    "    -\\lambda & \\lambda & 0 & 0 \\\\\n",
    "    \\mu & -2\\lambda-\\mu & 2\\lambda & 0 \\\\\n",
    "    0 &2\\mu & -3\\lambda-2\\mu & 3\\lambda \\\\\n",
    "    0 & 0 & 2\\mu & -2\\mu\n",
    "    \\end{array}\n",
    "    \\right)\n",
    "$\n",
    "\n",
    "\n",
    "### State Probabilities\n",
    "The state probabilites $X = \\left( x(0), x(1), x(2), x(3) \\right) $ are following from \n",
    "\n",
    "$\n",
    "X \\cdot Q = 0$ and $X \\cdot e = 1$\n",
    "\n"
   ]
  },
  {
   "cell_type": "code",
   "execution_count": 17,
   "metadata": {},
   "outputs": [
    {
     "name": "stdout",
     "output_type": "stream",
     "text": [
      "Q=\n",
      "[[-1  1  0  0]\n",
      " [ 1 -3  2  0]\n",
      " [ 0  2 -5  3]\n",
      " [ 0  0  2 -2]]\n",
      "\n",
      "Matrix is changed to\n",
      "Q2=\n",
      "[[-1  1  0  1]\n",
      " [ 1 -3  2  1]\n",
      " [ 0  2 -5  1]\n",
      " [ 0  0  2  1]]\n",
      "\n",
      "b=\n",
      "[0. 0. 0. 1.]\n",
      "\n",
      "X=\n",
      "[4. 4. 4. 6.]/18\n",
      "\n"
     ]
    }
   ],
   "source": [
    "import numpy as np\n",
    "from scipy import linalg\n",
    "\n",
    "lam = 1\n",
    "mu = 1\n",
    "\n",
    "# transition rate matrix \n",
    "Q = np.array([[-lam, lam, 0, 0],\n",
    "              [mu, -2*lam-mu, 2*lam, 0],\n",
    "              [0, 2*mu, -3*lam-2*mu, 3*lam],\n",
    "              [0, 0, 2*mu, -2*mu]])\n",
    "print(f'Q=\\n{Q}\\n')\n",
    "\n",
    "#%% change the matrix and define vector b\n",
    "Q2 = Q.copy()\n",
    "Q2[:, -1] = 1\n",
    "\n",
    "\n",
    "print(f'Matrix is changed to\\nQ2=\\n{Q2}\\n')\n",
    "\n",
    "b = np.zeros(len(Q))\n",
    "b[-1] = 1\n",
    "print(f'b=\\n{b}\\n')\n",
    "\n",
    "\n",
    "X = b @ linalg.inv(Q2) # compute the matrix inverse\n",
    "\n",
    "print(f'X=\\n{X*18}/18\\n')"
   ]
  },
  {
   "cell_type": "markdown",
   "metadata": {},
   "source": [
    "## Blocking and Waiting Probability\n",
    "The PASTA property must not be applied here, since the arrival process is *not* a Poisson process (although the interarrival times are exponentially distributed, but with state-dependent arrival rates). \n",
    "\n",
    "As a consequence, we need to derive the state probability $x_A(i)$ that an arriving customer finds the system in state $[X_A=i]$. Then, the blocking probability is\n",
    "\n",
    "$p_B = x_A(3)$.\n",
    "\n",
    "The waiting probability is \n",
    "\n",
    "$p_W = x_A(2)$.\n",
    "\n",
    "To this end, we use the strong law of large numbers for Markov chains.\n",
    "\n",
    "$\n",
    "x_A(i) = \\frac{\\lambda_i \\cdot x(i)}{\\sum_{i=0}^K \\lambda_i \\cdot x(i)} \n",
    "$\n"
   ]
  },
  {
   "cell_type": "code",
   "execution_count": 24,
   "metadata": {},
   "outputs": [
    {
     "name": "stdout",
     "output_type": "stream",
     "text": [
      "lambda_i = [1 2 3 4]\n",
      "average lambda = 8.00/3\n",
      "X=\n",
      "[4. 4. 4. 6.]/18\n",
      "\n",
      "X_A=\n",
      "[1. 2. 3. 6.]/12\n",
      "\n"
     ]
    }
   ],
   "source": [
    "lam_i = np.arange(1,5)\n",
    "print(f'lambda_i = {lam_i}')\n",
    "\n",
    "avg_lam = X @ lam_i\n",
    "print(f'average lambda = {avg_lam*3:.2f}/3')\n",
    "\n",
    "xA = lam_i/avg_lam*X\n",
    "print(f'X=\\n{X*18}/18\\n')\n",
    "print(f'X_A=\\n{xA*12}/12\\n')"
   ]
  }
 ],
 "metadata": {
  "ipub": {
   "titlepage": {
    "author": "Tobias Hossfeld",
    "email": "tobias.hossfeld@uni-wuerzburg.de",
    "institution": "University of W\\\"urzburg, Germany",
    "subtitle": "Chapter 3.5 M(x)/M/2-1 delay-loss system",
    "tagline": "https://doi.org/10.25972/WUP-978-3-95826-153-2",
    "title": "Performance Modeling and Analysis of Communication Networks - A Lecture Note"
   }
  },
  "kernelspec": {
   "display_name": "Python 3",
   "language": "python",
   "name": "python3"
  },
  "language_info": {
   "codemirror_mode": {
    "name": "ipython",
    "version": 3
   },
   "file_extension": ".py",
   "mimetype": "text/x-python",
   "name": "python",
   "nbconvert_exporter": "python",
   "pygments_lexer": "ipython3",
   "version": "3.7.10"
  }
 },
 "nbformat": 4,
 "nbformat_minor": 2
}
