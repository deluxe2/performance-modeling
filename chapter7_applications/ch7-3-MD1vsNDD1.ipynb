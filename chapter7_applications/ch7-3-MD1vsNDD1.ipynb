{
 "cells": [
  {
   "cell_type": "markdown",
   "metadata": {},
   "source": [
    "### Chapter 7.3\n",
    "# M/D/1 vs. nD/D/1 GI/GI/1 Waiting Time Distributions\n",
    "---\n",
    ">(c) Tobias Hossfeld  (Aug 2021)<br><br>\n",
    "> This script and the figures are part of the following book. The book is to be cited whenever the script is used (copyright CC BY-SA 4.0):<br>\n",
    "> *Tran-Gia, P. & Hossfeld, T. (2021). \n",
    "Performance Modeling and Analysis of Communication Networks - A Lecture Note.\n",
    "Würzburg University Press.*\n",
    "> *https://doi.org/10.25972/WUP-978-3-95826-153-2*\n",
    "\n",
    "---\n",
    "\n",
    "On the example of the Internet of Things (IoT), the superposition of\n",
    "periodic traffic from $n$ sensor nodes is investigated yielding an nD/D/1 queueing system. Here, the Palm-Khintchine theorem may be applied to approximate the system with an M/D/1 queue. But the question arises, how large must $n$ be such that the aggregated IoT traffic may be properly (i.e. with negligible bias) approximated by a Poisson process?\n",
    "\n",
    "In other wors: when $n$ is large enough a Poisson process (M/D/1) can be used instead of the aggregated periodic traffic (nD/D/1). This approximation is used for dimensioning an IoT load balancer which is the first point of the IoT\n",
    "cloud architecture where the individual traffic flows become aggregated. Such a load\n",
    "balancer is required to distribute the workload across the back-end servers. The difference of the waiting time distributions for the nD/D/1 and the approximating M/D/1 system are quantified.\n",
    "\n",
    "## System Description\n",
    " Consider periodic traffic from $n$ asynchronous IoT sensors sending every time $\\Delta t$. The processing times $B$ of the load balancer are constant, e.g. for computing hashes of the incoming packets. The deterministic service times have the following Laplace transform.\n",
    " \n",
    "$ B \\sim D(b)$  with $E[B]=b$  and  $ \\Phi_B(s) = e^{-s b}$\n",
    "\n",
    "## nD/D/1 Queue\n",
    "\n",
    "The nD/D/1 waiting time has the following cumulative distribution function:\n",
    "\n",
    "$ \\displaystyle\n",
    " W(t) = 1-\\!\\!\\!\\sum_{k=\\lceil t/b \\rceil}^{n-1} \\binom{n-1}{k}\\left( \\frac{kb-t}{\\Delta t}\\right)^k \\left(1-\\frac{kb-t}{\\Delta t} \\right)^{n-1-k}  \\frac{\\Delta t-(n-1)\\cdot b+t}{\\Delta t -k \\cdot b +t}\n",
    "$\n",
    "\n",
    "The mean waiting time is based on the Erlang-B formula $B(n,a)$. For its computation, the iterative method is used.\n",
    "$  \\displaystyle\n",
    "\tE[W]= \\frac{(n-1)\\rho b}{2 n\\cdot B(n-2,n/\\rho)}  \\\\\n",
    "\tB(0,a)=1 \\;, \\quad {B(n,a)} = \\left(1 + \\frac{n}{a\\cdot B(n-1,a)} \\right)^{-1}\n",
    "$"
   ]
  },
  {
   "cell_type": "code",
   "execution_count": 7,
   "metadata": {},
   "outputs": [],
   "source": [
    "from scipy import stats\n",
    "import matplotlib.pyplot as plt\n",
    "import numpy as np\n",
    "from scipy.special import binom, factorial\n",
    "from scipy.stats import poisson\n",
    "\n",
    "\n",
    "#%% CCDF of nD/D/1 queue\n",
    "def ndd1_ccdf(t, n, deltaT, EB):\n",
    "    \n",
    "    def single_ndd1_ccdf(ti, n, deltaT, EB):\n",
    "        m = np.arange(min(n-1, int(ti/EB)+1), n )\n",
    "        x = (m*EB-ti)/deltaT\n",
    "        z = binom(n-1, m)*x**m*(1-x)**(n-1-m)*(deltaT-(n-1)*EB+ti)/(deltaT-m*EB+ti)\n",
    "        return z.sum()\n",
    "    \n",
    "    if np.isscalar(t):\n",
    "        return single_ndd1_ccdf(t, n, deltaT, EB)\n",
    "    else:\n",
    "        y = [single_ndd1_ccdf(ti, n, deltaT, EB) for ti in t]        \n",
    "        return np.array(y)\n",
    "    \n"
   ]
  },
  {
   "cell_type": "markdown",
   "metadata": {},
   "source": [
    "## M/D/1 queue\n",
    "\n",
    "The CDF of the waiting time in an M/D/1 system is\n",
    "\n",
    "$ \\displaystyle\n",
    "W(t) = (1-\\lambda b) \\sum_{k=0}^{\\lfloor t/b\\rfloor} \\frac{(\\lambda (k\\cdot b - t))^k}{k!}e^{-(\\lambda (k\\cdot b - t))} \\cdot \n",
    "$\n",
    "\n",
    "Alternatively, the approach by Iversen is used for fast numerical computation of the CDF\n",
    "of the waiting times for M/D/1.\n",
    "\n",
    "\n",
    "The mean of the waiting time follows from Takacs recursion with $E[B^2] = b^2$ or the Laplace transform $E[W] = - \\frac{d}{ds}\\Phi_W(s) |_{s=0}$.\n",
    "\n",
    "$ \\displaystyle\n",
    "E[W]  = \\frac{\\lambda E[B^2]}{2(1-\\rho)} = \\frac{\\rho b}{2(1-\\rho)} \n",
    "$"
   ]
  },
  {
   "cell_type": "code",
   "execution_count": 19,
   "metadata": {},
   "outputs": [],
   "source": [
    "#%% CDF of M/D/1 queue\n",
    "def md1_ccdf(t, lam, EB):\n",
    "    \n",
    "    def single_md1_cdf(ti, lam, EB):\n",
    "        nus = np.arange(int(ti/EB)+1)        \n",
    "        z = [lam**nu*(nu*EB-ti)**nu/factorial(nu)*np.exp(-lam*(nu*EB-ti))        for nu in nus]\n",
    "        return np.sum(z)*(1-lam*EB)\n",
    "    \n",
    "    if np.isscalar(t):\n",
    "        return single_md1_cdf(t, lam, EB)\n",
    "    else:\n",
    "        y = [single_md1_cdf(ti, lam, EB) for ti in t]        \n",
    "        return np.array(y)    \n",
    "\n",
    "    \n",
    "#%% Iversen's approach\n",
    "def iversen(t, lam, EB):\n",
    "    rho = lam*EB\n",
    "    imax = max(50,int(t.max()/EB)+1)\n",
    "    fry = np.zeros(imax)\n",
    "    fry[0] = 1-rho\n",
    "    fry[1] = (1-rho)*(np.exp(rho)-1)\n",
    "    pnuv = lambda nu, A:  (A)**nu/factorial(nu)*np.exp(-A)        \n",
    "    pih = lambda i, EB: pnuv(i,lam*EB)\n",
    "    \n",
    "    for i in range(2,imax):    \n",
    "        s = [fry[nu]*pih(i-nu,EB) for nu in np.arange(2,i)]\n",
    "        fry[i]=1.0/pih(0,EB)*(fry[i-1]-(fry[0]+fry[1])*pih(i-1,EB) - np.sum(s) )\n",
    "    \n",
    "    def pWt(t):\n",
    "        T = int(t)\n",
    "        tau = t-T\n",
    "        p=0\n",
    "        for i in range(T+1):        \n",
    "            x = [pnuv(nu,-rho*tau) for nu in range(T-i+1)]\n",
    "            p += fry[i]*np.sum(x)\n",
    "        return p\n",
    "    \n",
    "    ps = map(pWt, t)\n",
    "    return np.array(list(ps))"
   ]
  },
  {
   "cell_type": "markdown",
   "metadata": {},
   "source": [
    "## Comparison of M/D/1 and nD/D/1 Waiting Times\n",
    "Complementary cumulative distribution function of the waiting times for $n=500$, $b=1$, $\\rho=\\lambda b=0.9, \\Delta t=n/\\rho$ for an nD/D/1 and the corresponding M/D/1 system."
   ]
  },
  {
   "cell_type": "code",
   "execution_count": 23,
   "metadata": {},
   "outputs": [
    {
     "data": {
      "image/png": "[encoded data removed]",
      "text/plain": [
       "<Figure size 432x288 with 1 Axes>"
      ]
     },
     "metadata": {
      "needs_background": "light"
     },
     "output_type": "display_data"
    }
   ],
   "source": [
    "n = 500\n",
    "rho = 0.9\n",
    "EB = 1\n",
    "\n",
    "deltaT = n/rho*EB\n",
    "lam = n/deltaT \n",
    "    \n",
    "t = np.linspace(0.1,20, 501)\n",
    "y = 1-iversen(t, lam, EB)\n",
    "plt.plot(t, y, label='M/D/1')\n",
    "\n",
    "plt.plot(t, 1-md1_cdf(t, lam, EB), '--', label='M/D/1')\n",
    "plt.plot(t, ndd1_ccdf(t, n, deltaT, EB), label='nD/D/1')\n",
    "\n",
    "plt.grid(which='major')\n",
    "plt.legend()\n",
    "plt.xlabel('waiting time $t$')\n",
    "plt.ylabel('$CCDF P(W>t)$');"
   ]
  },
  {
   "cell_type": "markdown",
   "metadata": {},
   "source": [
    "## Comparison of Means\n",
    "The mean waiting times are depicted for the nD/D/1 system depending on the number of nodes $n$ for different offered loads $\\rho$ and $b=1$. The dashed lines indicate the corresponding M/D/1 system. The legend indicates which is the minimal number $n^*$ of nodes resulting in a relative error between the mean waiting times smaller than $\\epsilon=2\\%$. "
   ]
  },
  {
   "cell_type": "code",
   "execution_count": 30,
   "metadata": {},
   "outputs": [
    {
     "data": {
      "image/png": "[encoded data removed]",
      "text/plain": [
       "<Figure size 432x288 with 1 Axes>"
      ]
     },
     "metadata": {
      "needs_background": "light"
     },
     "output_type": "display_data"
    }
   ],
   "source": [
    "def erlangB(n,a):\n",
    "    x = 1.0\n",
    "    for i in range(1,n+1):\n",
    "        x= 1.0/(1+(i/(a*x)))\n",
    "    return x\n",
    "\n",
    "def meanW_ndd1(ni, rho=0.95):\n",
    "    if np.isscalar(ni): ni=np.array([ni])\n",
    "    x = np.zeros_like(ni, dtype=float)\n",
    "    for i, n in enumerate(ni):\n",
    "        EB=1\n",
    "        #deltat=n/rho\n",
    "        x[i] = (n-1)*EB*rho/(2*n*erlangB(n-2,n/rho))\n",
    "    return x\n",
    "\n",
    "def meanW_md1(rho=0.95):    \n",
    "    return rho*1/(2*(1-rho))\n",
    "\n",
    "\n",
    "n = np.unique(np.hstack((np.logspace(1, 4, 501, dtype=int),\n",
    "                         np.arange(4700,4800),\n",
    "                         np.arange(50,70),\n",
    "                         np.arange(180,210))))\n",
    "\n",
    "rhos = [0.10, 0.5, 0.90][::-1]\n",
    "eps = 0.02\n",
    "for i, rho in enumerate(rhos):\n",
    "    ym = meanW_md1(rho)\n",
    "    yd = meanW_ndd1(n, rho)\n",
    "    k = np.argwhere(1-yd/ym<eps)\n",
    "    if len(k)>0:\n",
    "        plt.plot([n[k[0][0]]]*2, [1e-2, ym], 'k:')\n",
    "        label = f'$\\\\rho=${rho}\\n$n^*$>{n[k[0][0]]}'\n",
    "    else:\n",
    "        label = f'{rho}'\n",
    "    plt.plot(n, [ym]*len(n), '--', color=plt.cm.tab20(2*i))\n",
    "    \n",
    "    plt.plot(n, yd, label=label, color=plt.cm.tab20(2*i))\n",
    "\n",
    "plt.legend(loc='center left', bbox_to_anchor=(1, 0.5))\n",
    "\n",
    "plt.xlabel('number of nodes n')\n",
    "plt.ylabel('mean waiting time E[W]')\n",
    "plt.yscale('log')\n",
    "plt.xscale('log')\n",
    "f = 3\n",
    "plt.xticks([10, f*10, 100, f*100, 1000, f*1000, 10000])\n",
    "\n",
    "plt.yticks([1e-2, f*1e-2, 1e-1, f*1e-1, 1e0, f*1e0, 1e1])\n",
    "plt.grid(which='major')"
   ]
  }
 ],
 "metadata": {
  "ipub": {
   "titlepage": {
    "author": "Tobias Hossfeld",
    "email": "tobias.hossfeld@uni-wuerzburg.de",
    "institution": "University of W\\\"urzburg, Germany",
    "subtitle": "Chapter 7.3 M/D/1 vs. nD/D/1 GI/GI/1 Waiting Time Distributions",
    "tagline": "https://doi.org/10.25972/WUP-978-3-95826-153-2",
    "title": "Performance Modeling and Analysis of Communication Networks - A Lecture Note"
   }
  },
  "kernelspec": {
   "display_name": "Python 3",
   "language": "python",
   "name": "python3"
  },
  "language_info": {
   "codemirror_mode": {
    "name": "ipython",
    "version": 3
   },
   "file_extension": ".py",
   "mimetype": "text/x-python",
   "name": "python",
   "nbconvert_exporter": "python",
   "pygments_lexer": "ipython3",
   "version": "3.7.10"
  }
 },
 "nbformat": 4,
 "nbformat_minor": 2
}
