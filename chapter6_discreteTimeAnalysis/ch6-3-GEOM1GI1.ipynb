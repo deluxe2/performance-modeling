{
 "cells": [
  {
   "cell_type": "markdown",
   "metadata": {},
   "source": [
    "### Chapter 6.3\n",
    "# GEOM(1)/GI/1 Waiting Time Distribution\n",
    "---\n",
    ">(c) Tobias Hossfeld  (Aug 2021)<br><br>\n",
    "> This script and the figures are part of the following book. The book is to be cited whenever the script is used (copyright CC BY-SA 4.0):<br>\n",
    "> *Tran-Gia, P. & Hossfeld, T. (2021). \n",
    "Performance Modeling and Analysis of Communication Networks - A Lecture Note.\n",
    "Würzburg University Press.*\n",
    "> *https://doi.org/10.25972/WUP-978-3-95826-153-2*\n",
    "\n",
    "---\n",
    "\n",
    "The arriving customer stream is modeled by a Bernoulli process with Parameter \n",
    "$p=(1-\\alpha)$, i.e. at each point on the discrete time line an arrival occurs with probability $p=(1-\\alpha)$. Hence, the interarrival time $A$ is GEOM(1) distributed:\n",
    "\n",
    "$ \\displaystyle a(k) = (1-p)^{k-1} \\cdot p = \\alpha^{k-1} \\cdot (1-\\alpha) \\;, \\quad k = 1,2,\\ldots, $\n",
    "with $  \\displaystyle  E[A] =   \\frac{1}{p} = \\frac{1}{1-\\alpha} \\;,$\n",
    "\n",
    "The stability condition must be fulfilled, i.e. \n",
    "\n",
    "$\\rho = E[B]/E[A]<1$."
   ]
  },
  {
   "cell_type": "code",
   "execution_count": 2,
   "metadata": {},
   "outputs": [
    {
     "name": "stdout",
     "output_type": "stream",
     "text": [
      "System utilizatiohn: rho=0.80\n"
     ]
    }
   ],
   "source": [
    "from matplotlib import pyplot as plt\n",
    "import numpy as np\n",
    "from discreteTimeAnalysis import *\n",
    "import math\n",
    "\n",
    "EA = 5.0\n",
    "alpha = 1-1/EA\n",
    "A = GEOM(EA, m=1) # GEOM_0 with EA \n",
    "\n",
    "B = DU(1,7)\n",
    "\n",
    "rho = B.mean()/A.mean()\n",
    "print(f'System utilizatiohn: rho={rho:.2f}')"
   ]
  },
  {
   "cell_type": "markdown",
   "metadata": {},
   "source": [
    "## Z-Transform of Waiting Time \n",
    "The Z-transform of the waiting time distribution in GEOM(1)/GI/1 system is obtained: \n",
    "\n",
    "$ \\displaystyle W_{ZT} (z)  = \\frac{(1-\\rho) \\cdot (1-z)}\n",
    "              {1-\\alpha z -  (1 - \\alpha) \\; z \\; B_{ZT} (z)} \\;.\n",
    "$              \n",
    "\n",
    "This can be seen as the discrete-time form of the Pollaczek-Khintchine formula."
   ]
  },
  {
   "cell_type": "code",
   "execution_count": 9,
   "metadata": {},
   "outputs": [
    {
     "data": {
      "image/png": "[encoded data removed]",
      "text/plain": [
       "<Figure size 432x288 with 1 Axes>"
      ]
     },
     "metadata": {
      "needs_background": "light"
     },
     "output_type": "display_data"
    }
   ],
   "source": [
    "def ztransform(A):\n",
    "    def zt(z):        \n",
    "        return np.sum(A.pk*(z**(-A.xk)))    \n",
    "    return zt\n",
    "\n",
    "B_zt = ztransform(B) # We have now the Z-transform: B_zt(z)\n",
    "\n",
    "# Z-transform of the waiting time: W_zt(z)\n",
    "W_zt = lambda z: (1-rho)*(1-z)/(1-alpha*z-(1-alpha)*z*B_zt(z))\n",
    "\n",
    "# We use the inverse DFT to obtain the PMF\n",
    "xmax = 1000\n",
    "n = np.arange(xmax)\n",
    "z = np.exp(n*complex(0,1)*2*math.pi/xmax) # evalute the function at the right places\n",
    "y = np.vectorize(W_zt)(z)\n",
    "\n",
    "iz = np.fft.ifft(y) # inverse DFT\n",
    "\n",
    "plt.plot(iz.real, 's', label='using $W_{ZT}(z)$' )\n",
    "plt.grid(which='major')\n",
    "plt.xlim([-1, 50])\n",
    "plt.legend();"
   ]
  },
  {
   "cell_type": "markdown",
   "metadata": {},
   "source": [
    "## Waiting Time Distribution: Power Method\n",
    "By means of the power method, we iteratively compute the waiting time distribution, until the distribution $W$ reaches the steady state.\n",
    "\n",
    "$ \\displaystyle\n",
    "  w_{n+1} (k) = \\pi_0 \\Big(w_n (k)  * b_n (k) * a_n (-k)\\Big)\n",
    "          =  \\pi_0 \\Big(w_n (k) * c_n (k)\\Big)\n",
    "$\n",
    "\n",
    "The waiting time distribution of the $(n+1)$-st customer can be successively calculated from the waiting time distribution of the $n$-th customer. The interarrival and service time distributions can be chosen in a customer-dependent manner.\n",
    "This leads to an iterative algorithm for calculating the waiting time distribution of the GI/GI/1 system in time domain. \n",
    "\n",
    "This can be expressed in terms of random variables:\n",
    "\n",
    "$ \\displaystyle\n",
    "W_{n+1} = \\max(W_n+C,0) \\quad \\text{with } \\; C = B-A\n",
    "$"
   ]
  },
  {
   "cell_type": "code",
   "execution_count": 11,
   "metadata": {},
   "outputs": [
    {
     "data": {
      "text/plain": [
       "<matplotlib.legend.Legend at 0x21baf0a6d48>"
      ]
     },
     "execution_count": 11,
     "metadata": {},
     "output_type": "execute_result"
    },
    {
     "data": {
      "image/png": "[encoded data removed]",
      "text/plain": [
       "<Figure size 432x288 with 1 Axes>"
      ]
     },
     "metadata": {
      "needs_background": "light"
     },
     "output_type": "display_data"
    }
   ],
   "source": [
    "C = B-A\n",
    "\n",
    "Wn1 = DET(0) # empty system\n",
    "Wn = DET(1)  # just for initialization\n",
    "\n",
    "# power method\n",
    "while Wn != Wn1: # comparison based on means of the distributions\n",
    "    Wn = Wn1\n",
    "    Wn1 = max( Wn+C ,0)\n",
    "    \n",
    "\n",
    "plt.figure(2, clear=True)\n",
    "plt.plot(iz.real, 'x', label='using $W_{ZT}(z)$' )\n",
    "Wn1.plotPMF(label='power method')\n",
    "plt.grid(which='major')\n",
    "plt.xlim([-1, 50])\n",
    "plt.xlabel('i')\n",
    "plt.ylabel('w(i)')\n",
    "plt.legend()"
   ]
  }
 ],
 "metadata": {
  "ipub": {
   "titlepage": {
    "author": "Tobias Hossfeld",
    "email": "tobias.hossfeld@uni-wuerzburg.de",
    "institution": "University of W\\\"urzburg, Germany",
    "subtitle": "Chapter 6.2 Z-Transform and Discrete Fourier Transform",
    "tagline": "https://doi.org/10.25972/WUP-978-3-95826-153-2",
    "title": "Performance Modeling and Analysis of Communication Networks - A Lecture Note"
   }
  },
  "kernelspec": {
   "display_name": "Python 3",
   "language": "python",
   "name": "python3"
  },
  "language_info": {
   "codemirror_mode": {
    "name": "ipython",
    "version": 3
   },
   "file_extension": ".py",
   "mimetype": "text/x-python",
   "name": "python",
   "nbconvert_exporter": "python",
   "pygments_lexer": "ipython3",
   "version": "3.7.10"
  }
 },
 "nbformat": 4,
 "nbformat_minor": 2
}
