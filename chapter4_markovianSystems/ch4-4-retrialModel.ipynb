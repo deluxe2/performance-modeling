{
 "cells": [
  {
   "cell_type": "markdown",
   "metadata": {},
   "source": [
    "### Chapter 4.4 \n",
    "# Retrial Model\n",
    "\n",
    "---\n",
    ">(c) Tobias Hossfeld  (Aug 2021)<br><br>\n",
    "> This script and the figures are part of the following book. The book is to be cited whenever the script is used (copyright CC BY-SA 4.0):<br>\n",
    "> *Tran-Gia, P. & Hossfeld, T. (2021). \n",
    "Performance Modeling and Analysis of Communication Networks - A Lecture Note.\n",
    "Würzburg University Press.*\n",
    "> *https://doi.org/10.25972/WUP-978-3-95826-153-2*\n",
    "\n",
    "---\n",
    "\n",
    "In communication networks, especially for systems operating in loss mode, rejected customer requests sooner or later lead to new attempts - this happens rather sooner. Especially when looking at systems with a finite number of sources, this effect has a significant impact on the overall range of traffic and on the performance of the system.\n",
    "We are looking at an extension of the loss system with finite number of sources (Engset model), to a more realistic model considering this retrial or repeated-attempt modeling approach. \n",
    "\n",
    "A detailed description of the customer retrial model is provided in Chapter 4.4. This script provides an implementation of the  analysis in which a two-dimensional Markov state process is used and solved with a recursive algorithm. \n",
    "\n",
    "The script maps the two-dimensional Markov states $[X=i,Z=j]$ to a single dimension using the function `c2i(i,j)` (and `vec2matrix` as inverse mapping). This allows to use the previously implemented methods for analyzing a continuous-time Markov chain."
   ]
  },
  {
   "cell_type": "code",
   "execution_count": 1,
   "metadata": {},
   "outputs": [],
   "source": [
    "import numpy as np\n",
    "    \n",
    "#%% Index helper functions\n",
    "def c2i(i, j, n=2, m=3):\n",
    "    assert 0 <= i <= n , \"Argument 'i' out of range\"\n",
    "    assert 0 <= j <= m , \"Argument 'j' out of range\"\n",
    "    assert 0 <= i+j <= m, \"i+j >m\"\n",
    "    return j if i==0 else int(i*m-(i-1)*i/2+j+i)\n",
    " \n",
    "def vec2matrix(X2, n, m):\n",
    "    mat = np.zeros((n+1,m+1))\n",
    "    last = 0\n",
    "    for i in np.arange(n+1):\n",
    "        #print(f'{i}. {m-i} last={last}')\n",
    "        mat[i,:m-i+1]=X2[last:last+m-i+1]\n",
    "        last += m-i+1\n",
    "    return mat"
   ]
  },
  {
   "cell_type": "markdown",
   "metadata": {},
   "source": [
    "## Transition Rate Matrix\n",
    "\n",
    "The rate transition matrix is defined now `rateMatrix()`. Thereby, we consider the transitions $[X=i_0,Z=j_0] \\to [X=i_1,Z=j_1]$. The two-dimensional index is mapped to an one-dimensional index with the mapping helper functions above. \n",
    "\n",
    "The function `printMatrix` provides a visualization of the matrix."
   ]
  },
  {
   "cell_type": "code",
   "execution_count": 3,
   "metadata": {},
   "outputs": [],
   "source": [
    "import pandas as pd\n",
    "import matplotlib.pyplot as plt\n",
    "\n",
    "def printMatrix(Q):\n",
    "    print(pd.DataFrame(Q)) # pretty display of the matrix using Pandas    \n",
    "    Q2 = Q.copy()\n",
    "    Q2[Q==0]=np.nan\n",
    "    plt.figure(4, clear=True)\n",
    "    plt.matshow(Q2,fignum=4, cmap='Blues')\n",
    "    \n",
    "def rateMatrix(n=5, m=8, alpha0=13.2, alpha=2.1, mu=3.5, theta=0.8):\n",
    "    entries = int((n+1)*(m+1-n/2))#(n+1)*(m+1)\n",
    "    Q = np.zeros( (entries, entries) ) # rate matrix\n",
    "    for i in range(n+1):\n",
    "        for j in range(m+1):        \n",
    "            #print(f'({i},{j})')\n",
    "            # only outgoing connections\n",
    "            if i<n:\n",
    "                if i>0 and i+j<=m: Q[ c2i(i,j,n,m), c2i(i-1,j,n,m) ] = i*mu\n",
    "                if j>0 and i+j<=m: Q[ c2i(i,j,n,m), c2i(i+1,j-1,n,m) ] = j*alpha0        \n",
    "                if i+j<m: Q[ c2i(i,j,n,m), c2i(i+1,j,n,m) ] = (m-i-j)*alpha\n",
    "            else: #i==n\n",
    "                if j<=m-n: Q[ c2i(n,j,n,m), c2i(n-1,j,n,m) ] = n*mu\n",
    "                if j<m-n: Q[ c2i(n,j,n,m), c2i(n,j+1,n,m) ] = (m-n-j)*theta*alpha\n",
    "                if j>0 and j<=m-n: Q[ c2i(n,j,n,m), c2i(n,j-1,n,m) ] = (j)*alpha0*(1-theta)\n",
    "    \n",
    "    # set the diagonal\n",
    "    qi = -Q.sum(axis = 1)\n",
    "    np.fill_diagonal(Q,qi) # set diagonal values\n",
    "    return Q\n"
   ]
  },
  {
   "cell_type": "markdown",
   "metadata": {},
   "source": [
    "## Example: Parameter Setting \n",
    "A particular system and its parameter is considered. The corresponding rate matrix is plotted."
   ]
  },
  {
   "cell_type": "code",
   "execution_count": 4,
   "metadata": {},
   "outputs": [
    {
     "name": "stdout",
     "output_type": "stream",
     "text": [
      "          0         1         2    3         4         5         6         7  \\\n",
      "0 -0.021667  0.000000  0.000000  0.0  0.021667  0.000000  0.000000  0.000000   \n",
      "1  0.000000 -0.181111  0.000000  0.0  0.166667  0.014444  0.000000  0.000000   \n",
      "2  0.000000  0.000000 -0.340556  0.0  0.000000  0.333333  0.007222  0.000000   \n",
      "3  0.000000  0.000000  0.000000 -0.5  0.000000  0.000000  0.500000  0.000000   \n",
      "4  0.008333  0.000000  0.000000  0.0 -0.022778  0.000000  0.000000  0.014444   \n",
      "5  0.000000  0.008333  0.000000  0.0  0.000000 -0.182222  0.000000  0.166667   \n",
      "6  0.000000  0.000000  0.008333  0.0  0.000000  0.000000 -0.341667  0.000000   \n",
      "7  0.000000  0.000000  0.000000  0.0  0.016667  0.000000  0.000000 -0.022444   \n",
      "8  0.000000  0.000000  0.000000  0.0  0.000000  0.016667  0.000000  0.033333   \n",
      "\n",
      "          8  \n",
      "0  0.000000  \n",
      "1  0.000000  \n",
      "2  0.000000  \n",
      "3  0.000000  \n",
      "4  0.000000  \n",
      "5  0.007222  \n",
      "6  0.333333  \n",
      "7  0.005778  \n",
      "8 -0.050000  \n"
     ]
    },
    {
     "data": {
      "image/png": "[encoded data removed]",
      "text/plain": [
       "<Figure size 432x288 with 1 Axes>"
      ]
     },
     "metadata": {
      "needs_background": "light"
     },
     "output_type": "display_data"
    }
   ],
   "source": [
    "#%% Parameter\n",
    "n = 2 # number of servers\n",
    "m = 3 # number of customers (finite populatoin)\n",
    "\n",
    "EB = 120 # mean service time\n",
    "mu = 1.0/EB # service rate\n",
    "\n",
    "ER=6 # mean time in wait-for-retrial state\n",
    "alpha0 = 1.0/ER # corresponding rate\n",
    "\n",
    "theta = 0.8 # retrial probability\n",
    "\n",
    "rho = 1.3 # normalized offered load\n",
    "alpha = rho*mu*n/m # offered load per customer\n",
    "\n",
    "# the transition rate matrix\n",
    "Q = rateMatrix(n,m,alpha0,alpha,mu,theta)    \n",
    "printMatrix(Q)        "
   ]
  },
  {
   "cell_type": "markdown",
   "metadata": {},
   "source": [
    "## Solve the Steady State Equation System\n",
    "The steady state equation system needs to be solved (as in the one-dimensional case):\n",
    "\n",
    "$ X \\cdot Q = 0$ and $X \\cdot e = 1$\n",
    "\n",
    "Alternatively, the recursion algorithm in the book in Chapter 4.4 can be implemented."
   ]
  },
  {
   "cell_type": "code",
   "execution_count": 5,
   "metadata": {},
   "outputs": [],
   "source": [
    "from scipy import linalg\n",
    "\n",
    "#%% Solve this system\n",
    "def steadyState(Q,n=5,m=8):    \n",
    "    Q2 = Q.copy()\n",
    "    b = np.zeros(len(Q))\n",
    "    b[-1] = 1\n",
    "    Q2[:, -1] = 1\n",
    "    #print(Q2)\n",
    "    X = np.matmul(b, linalg.inv(Q2)) # matrix inverse\n",
    "    \n",
    "    return vec2matrix(X,n,m)# X.reshape((n+1,m-n+1))\n",
    "\n",
    "X = steadyState(Q,n,m)"
   ]
  },
  {
   "cell_type": "markdown",
   "metadata": {},
   "source": [
    "## Calculation of Traffic Flows \n",
    "To calculate system characteristics, we determine the rates of traffic processes in the model: \n",
    "\n",
    "The indices of the traffic flows are defined as follows.\n",
    "* $F$: fresh call, first attempt\n",
    "* $R$: retrial, repeated call\n",
    "* $S$: successful call, completed call\n",
    "* $U$: unsuccessful call or blocked call which will be repeated\n",
    "* $B$: unsuccessful call or blocked call which is abandoned\n",
    "\n",
    "According to this indexing scheme, $\\lambda_{FS}$ is e.g. the rate (in calls per unit of time) of fresh calls that are accepted and immediately served.\n",
    "\n",
    "A characteristic performance measure for the retrial effect is the average number of calls -- including the initiating fresh calls -- that a call has to make\n",
    "\n",
    "$ \\displaystyle\n",
    "\\eta = \\frac{\\lambda_{R}+\\lambda_{F}}{\\lambda_F} = 1 + \\frac{\\lambda_R}{\\lambda_F}\n",
    "$\n",
    "\n",
    "The blocking probability experienced by a user initiating a fresh call is given as\n",
    "\n",
    "$ \\displaystyle\n",
    "p_{B_F} = \\frac{\\lambda_{FU}+\\lambda_{FB}}{\\lambda_F}\n",
    "$\n"
   ]
  },
  {
   "cell_type": "code",
   "execution_count": 7,
   "metadata": {},
   "outputs": [],
   "source": [
    "# Traffic flow analysis based on steady state distribution X\n",
    "def KPIs_state(X,n,m,alpha,alpha0,theta):    \n",
    "    lamFS = 0\n",
    "    for i in range(n):\n",
    "        j = np.arange(m-n+1)\n",
    "        lamFS += np.sum( (m-i-j)*X[i,j] )\n",
    "    lamFS *= alpha\n",
    "        \n",
    "    j = np.arange(m-n+1)\n",
    "    tmp = alpha*np.sum( (m-n-j)*X[n,j] )\n",
    "    \n",
    "    lamFU = theta*tmp\n",
    "    lamFB = (1-theta)*tmp\n",
    "        \n",
    "    pB =  (lamFU+lamFB)/(lamFS+lamFU+lamFB)\n",
    "    \n",
    "    lamRS = 0\n",
    "    for i in range(n):\n",
    "        j = np.arange(m-n+1)\n",
    "        lamRS += np.sum( j*X[i,j] )\n",
    "    lamRS *= alpha0\n",
    "        \n",
    "    j = np.arange(m-n+1)\n",
    "    tmp2 = alpha0*np.sum( j*X[n,j] )\n",
    "    \n",
    "    lamRU = theta*tmp2\n",
    "    lamRB = (1-theta)*tmp2\n",
    "    \n",
    "    eta = 1 + (lamRS+lamRU+lamRB) / (lamFS+lamFU+lamFB)\n",
    "    \n",
    "    pball = 1-(lamRS + lamFS)/(lamRS+lamRU+lamRB + lamFS+lamFU+lamFB)        \n",
    "        \n",
    "    return (pB, eta, pball)\n",
    "\n",
    "# KPIs are derived for a parameter set. \n",
    "# First, the rate matrix is defined. \n",
    "# Then the steady state probabilities are computed.\n",
    "# Finally, the KPIs are calculated.\n",
    "def KPIs(n,m,alpha,alpha0,theta,mu):    \n",
    "    Q = rateMatrix(n,m,alpha0,alpha,mu,theta)   \n",
    "    X = steadyState(Q,n,m)\n",
    "    return KPIs_state(X,n,m,alpha,alpha0,theta)  \n",
    "\n",
    "# This is jut a wrapper function to loop over the vector 'alpha'\n",
    "def KPIs_wrapper(n,m,alpha,alpha0,theta,mu):    \n",
    "    if np.isscalar(alpha):\n",
    "        return KPIs(n,m,alpha,alpha0,theta,mu)\n",
    "    else:\n",
    "        pB = np.zeros_like(alpha)\n",
    "        eta = np.zeros_like(alpha)\n",
    "        pball = np.zeros_like(alpha)        \n",
    "        for i, al in enumerate(alpha):\n",
    "            pB[i], eta[i], pball[i] = KPIs(n,m,al,alpha0,theta,mu)\n",
    "    return (pB, eta, pball )"
   ]
  },
  {
   "cell_type": "markdown",
   "metadata": {},
   "source": [
    "## Parameter Study\n",
    "A parameter sensitivity study is conducted by varying the retrial probability $\\Theta$ and the offered load of idle customers.\n",
    "\n",
    "*Note: It will take some time until the computation is done.*"
   ]
  },
  {
   "cell_type": "code",
   "execution_count": 10,
   "metadata": {},
   "outputs": [
    {
     "name": "stdout",
     "output_type": "stream",
     "text": [
      "computation is started...\n",
      "theta=0.5\n",
      "theta=0.8\n",
      "theta=0.9\n",
      "theta=1.0\n",
      "...done!\n"
     ]
    }
   ],
   "source": [
    "# Parameter settings\n",
    "m = 100\n",
    "n = 15\n",
    "EB = 120\n",
    "mu = 1.0/EB\n",
    "\n",
    "alpha0 = 20*mu\n",
    "\n",
    "rho0 = np.linspace(0.4,2,100) # lam = alpha*m\n",
    "thetas = [0.5, 0.8, 0.9, 1.0]\n",
    "\n",
    "# initialize the result matrices\n",
    "pBs = np.zeros((len(thetas), len(rho0))) # blocking probability of fresh calls\n",
    "etas = np.zeros((len(thetas), len(rho0))) # average number of calls (incl. the initiating fresh call) that a call has to make\n",
    "pball = np.zeros((len(thetas), len(rho0))) # blocking probability of all calls\n",
    "\n",
    "# compute the KPIs\n",
    "print('computation is started...')\n",
    "for k, theta in enumerate(thetas):\n",
    "    print(f'theta={theta}')\n",
    "    alpha = rho0*mu*n/m\n",
    "    pBs[k,:], etas[k,:], pball[k,:] = KPIs_wrapper(n,m,alpha,alpha0,theta,mu)    \n",
    "print('...done!')    "
   ]
  },
  {
   "cell_type": "code",
   "execution_count": 11,
   "metadata": {},
   "outputs": [
    {
     "data": {
      "image/png": "[encoded data removed]",
      "text/plain": [
       "<Figure size 432x288 with 1 Axes>"
      ]
     },
     "metadata": {
      "needs_background": "light"
     },
     "output_type": "display_data"
    }
   ],
   "source": [
    "for k, theta in enumerate(thetas):                     \n",
    "    plt.plot(rho0,  etas[k,:], '-', label=theta, )\n",
    "    \n",
    "plt.xlabel('offered load $\\\\rho_0$')\n",
    "plt.ylabel('#retrials per call')\n",
    "plt.grid(which='major')\n",
    "plt.xlim([0.4, rho0[-1]])\n",
    "#plt.yscale('log')\n",
    "plt.ylim([1, 4])\n",
    "plt.legend(title='retrial prob. $\\\\Theta$');"
   ]
  }
 ],
 "metadata": {
  "ipub": {
   "titlepage": {
    "author": "Tobias Hossfeld",
    "email": "tobias.hossfeld@uni-wuerzburg.de",
    "institution": "University of W\\\"urzburg, Germany",
    "subtitle": "Chapter 4.4 Customer retrial model",
    "tagline": "https://doi.org/10.25972/WUP-978-3-95826-153-2",
    "title": "Performance Modeling and Analysis of Communication Networks - A Lecture Note"
   }
  },
  "kernelspec": {
   "display_name": "Python 3",
   "language": "python",
   "name": "python3"
  },
  "language_info": {
   "codemirror_mode": {
    "name": "ipython",
    "version": 3
   },
   "file_extension": ".py",
   "mimetype": "text/x-python",
   "name": "python",
   "nbconvert_exporter": "python",
   "pygments_lexer": "ipython3",
   "version": "3.7.10"
  }
 },
 "nbformat": 4,
 "nbformat_minor": 4
}
