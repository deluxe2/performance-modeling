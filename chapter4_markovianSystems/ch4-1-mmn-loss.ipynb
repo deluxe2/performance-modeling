{
 "cells": [
  {
   "cell_type": "markdown",
   "metadata": {},
   "source": [
    "### Chapter 4.1 \n",
    "# M/M/n-0 Loss System\n",
    "\n",
    "---\n",
    ">(c) Tobias Hossfeld  (Aug 2021)<br><br>\n",
    "> This script and the figures are part of the following book. The book is to be cited whenever the script is used (copyright CC BY-SA 4.0):<br>\n",
    "> *Tran-Gia, P. & Hossfeld, T. (2021). \n",
    "Performance Modeling and Analysis of Communication Networks - A Lecture Note.\n",
    "Würzburg University Press.*\n",
    "> *https://doi.org/10.25972/WUP-978-3-95826-153-2*\n",
    "\n",
    "---\n",
    "\n",
    "The M/M/n loss system represents a fundamental queueing system. The steady state probabilities $x(i)$ for $i=0,...,n$ can be derived based on the analysis of Markov systems. The system consists of $n$ parallel servers, but no waiting room. Customers arrive according to a Poisson process with rate $\\lambda$. The service time $B$ is exponentially distributed with mean $E[B]=1/\\mu$. The M/M/n-0 system is called the *Erlang loss model*. The blocking probability $p_B = x(n)$ due to the PASTA property of the system, i.e., the probability of the state as seen by an outside random observer is the same as the probability of the state seen by an arriving customer: $x_A(i)=x(i)$. Hence, $p_B=x_A(n)=x(n)$.\n",
    "\n",
    "## Direct computation of the blocking probability\n",
    "The Erlang-B formula (or Erlang's loss formula) is\n",
    "\n",
    "$p_B = \\frac{\\frac{a^n}{n!}}{\\sum_{i=0}^n\\frac{a^i}{i!}}$\n",
    "\n",
    "with the offered load $a=\\lambda E[B]=\\frac{\\lambda}{\\mu}$. For the direct computation, the factorial needs to be computed which may lead to numerical issues."
   ]
  },
  {
   "cell_type": "code",
   "execution_count": 1,
   "metadata": {},
   "outputs": [],
   "source": [
    "import numpy as np\n",
    "import matplotlib.pyplot as plt\n",
    "from scipy.special import factorial\n",
    "\n",
    "def erlangB_directComputation(N, a=100):\n",
    "    \n",
    "    def directComputation_singleValue(n,a): # computation for M/M/n system and single value of n\n",
    "        k = np.arange(n+1)\n",
    "        denominator = np.sum(a**k/factorial(k))\n",
    "        return a**n/factorial(n) / denominator\n",
    "        \n",
    "    if np.isscalar(N):\n",
    "        pb = directComputation_singleValue(N,a)\n",
    "    else:\n",
    "        pb = np.zeros_like(N, dtype=float)        \n",
    "        for i,n in enumerate(N):\n",
    "            pb[i] = directComputation_singleValue(n,a)            \n",
    "    return pb\n"
   ]
  },
  {
   "cell_type": "markdown",
   "metadata": {},
   "source": [
    "## Iterative computation of Erlang's loss formula\n",
    "A convenient formula for the efficient computation and the avoidance of numerical issues (up to a certain point), is based on the recurrence formula.\n",
    "\n",
    "$\n",
    "\\frac{1}{B(n,a)}=1+\\frac{n}{a}\\frac{1}{B(n-1,a)}\n",
    "$\n",
    "with the initial condition $B(0,a)=1$.\n",
    "\n",
    "This can also be expressed as\n",
    "\n",
    "$\n",
    "B(n,a) = \\frac{aB(n-1,a)}{n+aB(n-1,a)}\n",
    "$\n",
    "\n",
    "The blocking probability is then $p_B = B(n,a)$ for the M/M/n system with offered load $a=\\lambda E[B]$."
   ]
  },
  {
   "cell_type": "code",
   "execution_count": 3,
   "metadata": {},
   "outputs": [],
   "source": [
    "#%% Iterative computation of Erlang-B for vector N\n",
    "def erlangB_iterativeComputation(N, a=100):\n",
    "\n",
    "    def iterativeComputation_singleValue(n,a): # iterative computation for single value n (M/M/n)   \n",
    "        InvB = 1.0\n",
    "        for j in range(1, n+1):        \n",
    "            InvB = 1.0 + InvB * (j/a)                    \n",
    "        return (1.0 / InvB)\n",
    "\n",
    "    if np.isscalar(N):\n",
    "            pb = iterativeComputation_singleValue(N,a)\n",
    "    else:\n",
    "        pb = np.zeros_like(N, dtype=float)        \n",
    "        for i,n in enumerate(N):\n",
    "            pb[i] = iterativeComputation_singleValue(n,a)            \n",
    "    return pb"
   ]
  },
  {
   "cell_type": "markdown",
   "metadata": {},
   "source": [
    "## Example \n",
    "Changing the offered load will show numerical issues with the direct computation approach, while the recurrence formula is more robust. "
   ]
  },
  {
   "cell_type": "code",
   "execution_count": 4,
   "metadata": {},
   "outputs": [
    {
     "data": {
      "image/png": "[encoded data removed]",
      "text/plain": [
       "<Figure size 432x288 with 1 Axes>"
      ]
     },
     "metadata": {
      "needs_background": "light"
     },
     "output_type": "display_data"
    }
   ],
   "source": [
    "a = 10.5\n",
    "n = np.arange(1,251)\n",
    "\n",
    "plt.plot(n, erlangB_directComputation(n, a=a), label=f'direct')\n",
    "plt.plot(n, erlangB_iterativeComputation(n, a=a), label=f'iterative')\n",
    "\n",
    "plt.yscale('log')\n",
    "plt.xlabel('number n of servers')\n",
    "plt.ylabel('blocking prob. pB')    \n",
    "plt.legend();"
   ]
  }
 ],
 "metadata": {
  "ipub": {
   "titlepage": {
    "author": "Tobias Hossfeld",
    "email": "tobias.hossfeld@uni-wuerzburg.de",
    "institution": "University of W\\\"urzburg, Germany",
    "subtitle": "Chapter 4.1 M/M/n loss system",
    "tagline": "https://doi.org/10.25972/WUP-978-3-95826-153-2",
    "title": "Performance Modeling and Analysis of Communication Networks - A Lecture Note"
   }
  },
  "kernelspec": {
   "display_name": "Python 3",
   "language": "python",
   "name": "python3"
  },
  "language_info": {
   "codemirror_mode": {
    "name": "ipython",
    "version": 3
   },
   "file_extension": ".py",
   "mimetype": "text/x-python",
   "name": "python",
   "nbconvert_exporter": "python",
   "pygments_lexer": "ipython3",
   "version": "3.7.10"
  }
 },
 "nbformat": 4,
 "nbformat_minor": 4
}
