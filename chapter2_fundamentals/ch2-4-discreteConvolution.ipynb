{
 "cells": [
  {
   "cell_type": "markdown",
   "metadata": {},
   "source": [
    "### Chapter 2.4\n",
    "# Discrete Random Variable and Discrete Convolution\n",
    "\n",
    "---\n",
    ">(c) Tobias Hossfeld  (Aug 2021)<br><br>\n",
    "> This script and the figures are part of the following book. The book is to be cited whenever the script is used (copyright CC BY-SA 4.0):<br>\n",
    "> *Tran-Gia, P. & Hossfeld, T. (2021). \n",
    "Performance Modeling and Analysis of Communication Networks - A Lecture Note.\n",
    "Würzburg University Press.*\n",
    "> *https://doi.org/10.25972/WUP-978-3-95826-153-2*\n",
    "\n",
    "---\n",
    "\n",
    "\n",
    "A **random variable** is a variable whose possible values are numerical outcomes of a random phenomenon. It maps events to real values. There are two types of random variables, discrete and continuous. \n",
    "\n",
    "## Discrete Random Variable\n",
    "A **discrete random variable** may take on only a countable number of distinct values and thus can be quantified. For example, you can define a random variable $X$ to be the number which comes up when you roll a fair dice. $X$ can take values : $[1,2,3,4,5,6]$ and therefore is a discrete random variable.\n",
    "\n",
    "The probability distribution of a discrete random variable is a list of probabilities associated with each of its possible values. It is also sometimes called the **probability function** or the probability mass function. For the dice example, the probabilities are equal, i.e. $P(X=i)=p_i = 1/6$ for $i=1,\\dots,6$. For $i>6$ or $i<1$, it is $p_i=0$.\n",
    "\n",
    "The sum of all probabilities is\n",
    "$\n",
    "\\sum_{i=-\\infty}^\\infty p_i = 1 \\, .\n",
    "$"
   ]
  },
  {
   "cell_type": "code",
   "execution_count": 1,
   "metadata": {},
   "outputs": [
    {
     "data": {
      "image/png": "[encoded data removed]",
      "text/plain": [
       "<Figure size 432x288 with 1 Axes>"
      ]
     },
     "metadata": {
      "needs_background": "light"
     },
     "output_type": "display_data"
    }
   ],
   "source": [
    "# display figures inline\n",
    "%matplotlib inline\n",
    "\n",
    "import numpy as np\n",
    "import matplotlib.pyplot as plt\n",
    "\n",
    "p = np.array([1/6]*6)\n",
    "x = np.arange(1,7)\n",
    "plt.bar(x,p)\n",
    "plt.xlabel('i')\n",
    "plt.ylabel('probability')\n",
    "plt.title('Discrete Uniform Distribution');"
   ]
  },
  {
   "cell_type": "markdown",
   "metadata": {},
   "source": [
    "The cumulative distribution function (CDF) of a discrete random variable is the probability that the random value $X$ takes a value less or equal to $i$, i.e. $P(X\\leq i)$. \n",
    "\n",
    "$\n",
    "P(X \\leq i) = \\sum_{k=1}^i P(X=i) = \\sum_{k=1}^i p_i \n",
    "$"
   ]
  },
  {
   "cell_type": "code",
   "execution_count": 3,
   "metadata": {},
   "outputs": [
    {
     "data": {
      "image/png": "[encoded data removed]",
      "text/plain": [
       "<Figure size 432x288 with 1 Axes>"
      ]
     },
     "metadata": {
      "needs_background": "light"
     },
     "output_type": "display_data"
    }
   ],
   "source": [
    "plt.bar(x, p.cumsum())\n",
    "plt.xlabel('i')\n",
    "plt.ylabel('CDF')\n",
    "plt.title('Discrete Uniform Distribution');"
   ]
  },
  {
   "cell_type": "markdown",
   "metadata": {},
   "source": [
    "The **expected value** $E[X]$ of a random variable is the long-run average value of repetitions of the same experiment it represents, see [wikipedia](https://en.wikipedia.org/wiki/Expected_value). \n",
    "\n",
    "$\n",
    "E[X] = \\sum_{i=-\\infty}^\\infty i\\cdot P(X=i) = \\sum_{i=-\\infty}^\\infty i\\cdot p_i\n",
    "$\n",
    "\n",
    "The second moment is derived as follows.\n",
    "\n",
    "$\n",
    "E[X^2] = \\sum_{i=-\\infty}^\\infty i^2\\cdot P(X=i) = \\sum_{i=-\\infty}^\\infty i^2\\cdot p_i\n",
    "$\n",
    "\n",
    "The variance can be derived by\n",
    "$\n",
    "Var[X] = E[X^2]-E[X]^2 \\, .\n",
    "$\n",
    "\n",
    "The standard deviation is \n",
    "$Std[X] = \\sqrt{Var[X]}$\n",
    "and the coefficient of variation is\n",
    "$c_X = \\frac{Std[X]}{E[X]} \\, .$"
   ]
  },
  {
   "cell_type": "markdown",
   "metadata": {},
   "source": [
    "### Bernoulli Distribution\n",
    "The most simple discrete distribution is the Bernoulli distribution. The random variable $X$ takes two values only, $X=1$ (success) with probability $p$ or $X=0$ (failure) with probability $1-p$. A single experiment is called a Bernoulli experiment.\n",
    "\n",
    "$\n",
    "X \\sim \\mathrm{BER}(p), E[X] = p, Var[X] = p-p^2, c_X = \\sqrt{\\frac{1}{p}-1}\n",
    "$\n",
    "\n",
    "### Binomial Distribution\n",
    "The binomial distribution $Y$ counts the number of successes if a Bernoulli experiment $X$ with success probability $p$ is repeated $n$ times. Hence, the random variable $Y$ takes values in the range $0,1,\\dots,n$. In other words, $Y$ is the sum of $n$ random variables $X_i$ following a Bernoulli distribution, $X_i \\sim Ber(p)$.\n",
    "\n",
    "$\n",
    "Y = \\sum_{i=1}^n X_i \\sim \\mathrm{BINOM}(n,p) \\text{ for } X_i \\sim \\mathrm{BER}(p)\n",
    "$"
   ]
  },
  {
   "cell_type": "code",
   "execution_count": 4,
   "metadata": {},
   "outputs": [
    {
     "data": {
      "text/plain": [
       "<Figure size 432x288 with 0 Axes>"
      ]
     },
     "metadata": {},
     "output_type": "display_data"
    },
    {
     "data": {
      "application/vnd.jupyter.widget-view+json": {
       "model_id": "cf09ef389bba47738bf7a5d5c8c3155d",
       "version_major": 2,
       "version_minor": 0
      },
      "text/plain": [
       "interactive(children=(IntSlider(value=7, description='n', max=20, min=2), FloatSlider(value=0.65, description=…"
      ]
     },
     "metadata": {},
     "output_type": "display_data"
    }
   ],
   "source": [
    "from ipywidgets import interact, interactive, fixed, interact_manual\n",
    "import ipywidgets as widgets\n",
    "\n",
    "from scipy.stats import binom\n",
    "\n",
    "plt.figure()\n",
    "plt.clf()\n",
    "\n",
    "def update_bino(n=7, p=0.65):\n",
    "    x = np.arange(n+1)\n",
    "    plt.bar(x, binom.pmf(x, n, p))   \n",
    "    plt.xlabel('y')\n",
    "    plt.ylabel('probability')\n",
    "    plt.title(f'Binomial Distribution Y~Bin({n},{p})');\n",
    "    plt.show();\n",
    "    \n",
    "interact(update_bino, n = (2,20,1), p=(0,1,0.05));"
   ]
  },
  {
   "cell_type": "markdown",
   "metadata": {},
   "source": [
    "We are using now numerical convolution of the Bernoulli distribution to generate the Bernoulli distribution, see [numpy.convolve](https://docs.scipy.org/doc/numpy-1.14.0/reference/generated/numpy.convolve.html). "
   ]
  },
  {
   "cell_type": "markdown",
   "metadata": {},
   "source": [
    "## Discrete Convolution\n",
    "Let us assume that the two positive discrete random variables $X_1$ and $X_2$ are statistically independent. Then the sum $X=X_1+X_2$ leads to a new random variable $X$. The expected value is $E[X]=E[X_1]+E[X_2]$. For the probability distribution $x(i)$ for $i=0,1,\\dots$, the convolution of the two distributions is required.\n",
    "\n",
    "$\n",
    "x(i) = P(X=i) = P(X_1+X_2)=i=\\sum_{j=0}^i P(X_1=i-j|X_2=j)\\cdot P(X_2=j) = \\sum_{j=0}^i x_1(i-j)\\cdot x_2(j)\n",
    "$\n",
    "\n",
    "This is called **discrete convolution** and denoted by \n",
    "$\n",
    "x(i) = x_1(i) * x_2(i) \\, .\n",
    "$\n",
    "\n",
    "### Example: Binomial distribution as sum of Bernoulli experiments"
   ]
  },
  {
   "cell_type": "code",
   "execution_count": 6,
   "metadata": {},
   "outputs": [
    {
     "data": {
      "image/png": "[encoded data removed]",
      "text/plain": [
       "<Figure size 432x288 with 1 Axes>"
      ]
     },
     "metadata": {
      "needs_background": "light"
     },
     "output_type": "display_data"
    }
   ],
   "source": [
    "n, p = 7, 0.65\n",
    "\n",
    "ps = [1-p, p]\n",
    "res = ps\n",
    "for i in range(2,n+1):\n",
    "    res = np.convolve(res, ps)\n",
    "\n",
    "w = 0.4\n",
    "plt.figure()\n",
    "x = np.arange(n+1)\n",
    "plt.bar(x,res, label='convolution', width=-w, align='edge')\n",
    "plt.bar(x,binom.pmf(x,n,p), label='binomial', width=+w, align='edge')\n",
    "plt.xlabel('y')\n",
    "plt.ylabel('probability')\n",
    "plt.legend()\n",
    "plt.title(f'Binomial Distribution Y~Bin({n},{p})');"
   ]
  },
  {
   "cell_type": "markdown",
   "metadata": {},
   "source": [
    "### Example: Sum of two dice\n",
    "As an example, we consider the discrete random variables $X_1 = DU(1,6)$ and $X_2 = DU(1,6)$. In Python the discrete convolution is computed with [numpy.convolve](https://docs.scipy.org/doc/numpy-1.14.0/reference/generated/numpy.convolve.html). Note the range of the sum $X=X_1+X_2$ is $\\{2,3,\\dots,11,12\\}$."
   ]
  },
  {
   "cell_type": "code",
   "execution_count": 10,
   "metadata": {},
   "outputs": [
    {
     "data": {
      "image/png": "[encoded data removed]",
      "text/plain": [
       "<Figure size 432x288 with 1 Axes>"
      ]
     },
     "metadata": {
      "needs_background": "light"
     },
     "output_type": "display_data"
    }
   ],
   "source": [
    "p1 = np.array([1/6]*6)\n",
    "x1 = np.arange(1,7)\n",
    "\n",
    "p2 = np.array([1/6]*6)\n",
    "x2 = np.arange(1,7)\n",
    "\n",
    "p = np.convolve(p1,p2)\n",
    "x = np.arange(2,13)\n",
    "w = 0.25\n",
    "plt.figure()\n",
    "plt.bar(x1-w, p1, width=w, align='center', label='$X_1$')\n",
    "plt.bar(x2, p2, width=w, align='center', label='$X_2$')\n",
    "plt.bar(x+w, p, width=w, align='center', label='$X_1+X_2$')\n",
    "plt.xlabel('i')\n",
    "plt.ylabel('probability');\n",
    "plt.legend();"
   ]
  }
 ],
 "metadata": {
  "ipub": {
   "titlepage": {
    "author": "Tobias Hossfeld",
    "email": "tobias.hossfeld@uni-wuerzburg.de",
    "institution": "University of W\\\"urzburg, Germany",
    "subtitle": "Chapter 2.4 Some Important Distributions",
    "tagline": "https://doi.org/10.25972/WUP-978-3-95826-153-2",
    "title": "Performance Modeling and Analysis of Communication Networks - A Lecture Note"
   }
  },
  "kernelspec": {
   "display_name": "Python 3",
   "language": "python",
   "name": "python3"
  },
  "language_info": {
   "codemirror_mode": {
    "name": "ipython",
    "version": 3
   },
   "file_extension": ".py",
   "mimetype": "text/x-python",
   "name": "python",
   "nbconvert_exporter": "python",
   "pygments_lexer": "ipython3",
   "version": "3.7.10"
  }
 },
 "nbformat": 4,
 "nbformat_minor": 2
}
