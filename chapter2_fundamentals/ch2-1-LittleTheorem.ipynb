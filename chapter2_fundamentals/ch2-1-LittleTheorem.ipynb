{
 "cells": [
  {
   "cell_type": "markdown",
   "metadata": {},
   "source": [
    "### Chapter 2.1  \n",
    "# Little's Theorem\n",
    "\n",
    "---\n",
    ">(c) Tobias Hossfeld  (Aug 2021)<br><br>\n",
    "> This script and the figures are part of the following book. The book is to be cited whenever the script is used (copyright CC BY-SA 4.0):<br>\n",
    "> *Tran-Gia, P. & Hossfeld, T. (2021). \n",
    "Performance Modeling and Analysis of Communication Networks - A Lecture Note.\n",
    "Würzburg University Press.*\n",
    "> *https://doi.org/10.25972/WUP-978-3-95826-153-2*\n",
    "\n",
    "---\n",
    "\n",
    "We consider a *system* which can be understood in a very general context. For the system it is only assumed that the limit values considered below are well-defined constants - and not random variables.\n",
    "The system taken into account can be any selected component of a real system or its model. \n",
    "The following parameters are of interest: \n",
    "* $\\lambda$:   mean arrival rate of the arrival process, which can be of generic nature,\n",
    "* $E[X]$:   mean number of customers in system,\n",
    "* $E[T]$:  mean sojourn time of customers in system.\n",
    "\n",
    "This system assumes it is in statistical equilibrium and the mean number of customers and the mean sojourn time are finite and exist. The so-called Little's theorem applies (or Little's formula, Little's law).\n",
    "\n",
    "$E[X] = \\lambda \\cdot E[T]$\n",
    "\n",
    "## Example: Balking\n",
    "Consider now a system with customer impatience. A customer arrives and sees the system in state $i$, i.e. there are $i$ other customers in the system. With probability $1-p_i$ the arriving customer refuses to enter the queue e.g. due to too long waiting time. This means this customer balks from the queueing system. With probability $p_i$, the arriving customer joins the systems. This behavior can be observed in practice for example when the waiting line is too long in a supermarket, then some customers decided to not go shopping and do not enter the supermarket.\n",
    "\n",
    "We assume that the probability that the system is in state $i$ is \n",
    "$x(i)=P(X=i) = \\binom{N}{i} \\cdot \\rho^i (1-\\rho)^{N-i} $  for  $i = 0, \\dots, N$.\n",
    "In other words: the system state $X$ (r.v.) follows a binomial distribution with parameters $N$ and $\\rho$.\n",
    "$ X \\sim \\mathrm{BINOM}(N,\\rho)$\n",
    "\n",
    "The probability $p_i$ that a customer joins in state $[X=i]$ is \n",
    "$p_i = \\frac{1}{i+1}$.\n",
    "This creates state-dependent arrival rates. The system is in state $i$ with probability $x(i)$. The effective arrival rate $\\lambda_i$ of customers entering the system when seeing $i$ other customers is\n",
    "$\\lambda_i = \\lambda \\cdot p_i $.\n",
    "\n",
    "Then, the mean arrival rate to the system is\n",
    "\n",
    "$\\bar{\\lambda} = \\sum_{i=0}^\\infty \\lambda_i \\cdot x(i) = \\sum_{i=0}^\\infty  \\lambda\\cdot p_i \\cdot x(i) $ .\n",
    "\n",
    "It is \n",
    "\n",
    "$E[X]=\\sum_{i=0}^\\infty i \\cdot x(i)$\n",
    "\n",
    "and therefore\n",
    "\n",
    "$E[T] = \\frac{E[X]}{\\bar{\\lambda}} = \\frac{\\sum_{i=0}^\\infty i \\cdot x(i)}{\\sum_{i=0}^\\infty  \\lambda\\cdot p_i \\cdot x(i)} \\; $.\n"
   ]
  },
  {
   "cell_type": "code",
   "execution_count": 5,
   "metadata": {},
   "outputs": [
    {
     "data": {
      "image/png": "[encoded data removed]",
      "text/plain": [
       "<Figure size 432x288 with 1 Axes>"
      ]
     },
     "metadata": {
      "needs_background": "light"
     },
     "output_type": "display_data"
    }
   ],
   "source": [
    "import numpy as np\n",
    "import matplotlib.pyplot as plt\n",
    "from scipy.special import binom \n",
    "\n",
    "def get_meanResponseTime(N=10, rho=0.7, lam=4):\n",
    "    i = np.arange(N+1) # potential system state, i=0,1,...,N\n",
    "    xi = binom(N,i)*rho**i*(1-rho)**(N-i) # probability that the system is in state i\n",
    "\n",
    "    pi = 1/(1+i) # probability that customer joins the queue\n",
    "    lam_i = lam*pi # state-dependent arrival rate\n",
    "\n",
    "    avg_lam = lam_i@xi # average arrival rate (using scalar product)\n",
    "    EX = i@xi # average number of customers in system\n",
    "    ET = EX/avg_lam # average sojourn time\n",
    "    \n",
    "    return ET\n",
    "\n",
    "lam = 4 # parameter for the state-dependent arrival rates\n",
    "N = 10 # maximum system state \n",
    "\n",
    "rhos = np.linspace(0.1,0.9,50) # probability parameter of the binomial distribution\n",
    "ETs = [get_meanResponseTime(rho = rho, N=N, lam=lam) for rho in rhos]\n",
    "\n",
    "plt.plot(rhos,ETs)\n",
    "plt.xlabel('parameter $\\\\rho$')\n",
    "plt.ylabel('mean response time $E[T]$')\n",
    "plt.grid(which='major')"
   ]
  }
 ],
 "metadata": {
  "ipub": {
   "titlepage": {
    "author": "Tobias Hossfeld",
    "email": "tobias.hossfeld@uni-wuerzburg.de",
    "institution": "University of W\\\"urzburg, Germany",
    "subtitle": "Chapter 2.1 Little formula",
    "tagline": "https://doi.org/10.25972/WUP-978-3-95826-153-2",
    "title": "Performance Modeling and Analysis of Communication Networks - A Lecture Note"
   }
  },
  "kernelspec": {
   "display_name": "Python 3",
   "language": "python",
   "name": "python3"
  },
  "language_info": {
   "codemirror_mode": {
    "name": "ipython",
    "version": 3
   },
   "file_extension": ".py",
   "mimetype": "text/x-python",
   "name": "python",
   "nbconvert_exporter": "python",
   "pygments_lexer": "ipython3",
   "version": "3.7.10"
  }
 },
 "nbformat": 4,
 "nbformat_minor": 2
}
