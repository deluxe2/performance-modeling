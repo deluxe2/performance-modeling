{
 "cells": [
  {
   "cell_type": "markdown",
   "metadata": {},
   "source": [
    "### Chapter 5.5 \n",
    "# Model with Batch Service and Threshold Control: M/GI$^{[\\Theta,K]}$/1-S \n",
    "\n",
    "---\n",
    ">(c) Tobias Hossfeld  (Aug 2021)<br><br>\n",
    "> This script and the figures are part of the following book. The book is to be cited whenever the script is used (copyright CC BY-SA 4.0):<br>\n",
    "> *Tran-Gia, P. & Hossfeld, T. (2021). \n",
    "Performance Modeling and Analysis of Communication Networks - A Lecture Note.\n",
    "Würzburg University Press.*\n",
    "> *https://doi.org/10.25972/WUP-978-3-95826-153-2*\n",
    "\n",
    "---\n",
    "\n",
    "We consider now a model with batch service and threshold control: M/GI$^{[\\Theta,K]}$/1-S \n",
    "A work station processes a batch of jobs jointly (*batch service*). At most $K$ jobs can be processed during batch service. However, the work station is first activated if there are enough jobs available to be processed (*threshold control*). This threshold $\\Theta$ when to activate the service controls the efficiency of the system as well as the wait and response time for jobs. For manufacturing systems, it may be more cost-efficient to run the machine for a minimum number $\\Theta$ of jobs, while the processing capacity $K$ as well as the waiting space $S$ are limited. The system can still be analyzed using the embedded Markov chain technique.\n",
    "\n",
    "## Example: Definition of Parameters"
   ]
  },
  {
   "cell_type": "code",
   "execution_count": 1,
   "metadata": {},
   "outputs": [],
   "source": [
    "# Definition der Parameter\n",
    "Theta = 3 # threshold control\n",
    "K = 8     # maximum batch size \n",
    "S = 10    # number of waiting places\n",
    "cB = 0    # coefficient of variation of the service time\n",
    "rho = 0.9 # normalized offered load\n",
    "\n",
    "EB = 1.0            # mean service time\n",
    "mu = 1.0 / EB       # service rate\n",
    "lam = rho * K / EB  # arrival rate\n",
    "epsilon = 1e-16     # power method: accuracy when to stop iterations when comparing means"
   ]
  },
  {
   "cell_type": "markdown",
   "metadata": {},
   "source": [
    "## Random Variable $\\Gamma$ \n",
    "The random variable $\\Gamma$ reflects the number of Poisson arrivals during the service time $B$. As defined in Chapter 3.3.3 \"Poisson Arrivals during an Arbitrarily Distributed Interval\", it is\n",
    "\n",
    "$ \\Gamma_{GF} (z) = \\Phi_B \\Big(\\lambda (1 - z)\\Big) $.\n",
    "\n",
    "We compute the probability $\\gamma(i)=P(\\Gamma=i)$ by numerical integration:\n",
    "\n",
    " $\\gamma(i) = \\int\\limits_{0}^\\infty P(\\Gamma=i\\,|\\,B=\\tau)\n",
    "     {b(\\tau) \\;d\\tau}       \n",
    "     = \\int\\limits_{0}^\\infty \\frac{(\\lambda\\tau)^i}{i!}\n",
    "     e^{-\\lambda\\tau} b(\\tau) \\;d\\tau $\n",
    "     \n",
    "Depending on the coefficient of variation $c_B$, we use different distributions for the service time $B$: \n",
    "* $c_B=0$: deterministic distribution\n",
    "* $c_B=1$: exponential distribution\n",
    "* otherwise: lognormal distribution"
   ]
  },
  {
   "cell_type": "code",
   "execution_count": 2,
   "metadata": {},
   "outputs": [],
   "source": [
    "import numpy as np\n",
    "from scipy.stats import lognorm, poisson \n",
    "from scipy.integrate import quad\n",
    "\n",
    "if cB==1: # exponential distribution\n",
    "    if False:\n",
    "        gamma_i = np.zeros(S)\n",
    "        for i in np.arange(S):\n",
    "            integrand = lambda t: pdf_b(t)*poisson.pmf(i, lam*t)\n",
    "            gamma_i[i] = quad(integrand, 0, np.inf)[0]\n",
    "        gamma_i[S] = 1-gamma_i[:-1].sum()\n",
    "    else:\n",
    "        i = np.arange(S)            \n",
    "        gamma_i = (lam*EB)**i/(1+lam*EB)**(i+1)        \n",
    "elif cB==0: # deterministic distribution\n",
    "    gamma_i = np.zeros(S)\n",
    "    i = np.arange(S)           \n",
    "    gamma_i[i] = poisson.pmf(i, lam*EB)            \n",
    "else: # lognormal distribution\n",
    "    std = EB*cB\n",
    "    m = EB\n",
    "    v = std**2\n",
    "    phi = np.sqrt(v + m**2);\n",
    "    #mulogn    = np.log(m**2/phi);          \n",
    "    sigma = np.sqrt(np.log(phi**2/m**2));         \n",
    "    mymu = np.log(m)\n",
    "    scale = np.exp(mymu-(sigma**2)/2)    \n",
    "    shape = sigma    \n",
    "\n",
    "    pdf_b = lambda t: lognorm.pdf(t, s=shape, scale=scale, loc=0)    \n",
    "    cdf_b = lambda t: lognorm.cdf(t, s=shape, scale=scale, loc=0)    \n",
    "    \n",
    "    gamma_i = np.zeros(S+1)\n",
    "    for i in np.arange(S):\n",
    "        integrand = lambda t: pdf_b(t)*poisson.pmf(i, lam*t)\n",
    "        gamma_i[i] = quad(integrand, 0, np.inf)[0]"
   ]
  },
  {
   "cell_type": "markdown",
   "metadata": {},
   "source": [
    "## State Transition matrix $P = \\{p_{ij}\\}$\n",
    "The state transition matrix is defined in Chapter 5.5.2 and implemented here.\n"
   ]
  },
  {
   "cell_type": "code",
   "execution_count": 3,
   "metadata": {},
   "outputs": [
    {
     "name": "stdout",
     "output_type": "stream",
     "text": [
      "          0         1         2         3         4         5         6   \\\n",
      "0   0.000747  0.005375  0.019352  0.046444  0.083598  0.120382  0.144458   \n",
      "1   0.000747  0.005375  0.019352  0.046444  0.083598  0.120382  0.144458   \n",
      "2   0.000747  0.005375  0.019352  0.046444  0.083598  0.120382  0.144458   \n",
      "3   0.000747  0.005375  0.019352  0.046444  0.083598  0.120382  0.144458   \n",
      "4   0.000747  0.005375  0.019352  0.046444  0.083598  0.120382  0.144458   \n",
      "5   0.000747  0.005375  0.019352  0.046444  0.083598  0.120382  0.144458   \n",
      "6   0.000747  0.005375  0.019352  0.046444  0.083598  0.120382  0.144458   \n",
      "7   0.000747  0.005375  0.019352  0.046444  0.083598  0.120382  0.144458   \n",
      "8   0.000747  0.005375  0.019352  0.046444  0.083598  0.120382  0.144458   \n",
      "9   0.000000  0.000747  0.005375  0.019352  0.046444  0.083598  0.120382   \n",
      "10  0.000000  0.000000  0.000747  0.005375  0.019352  0.046444  0.083598   \n",
      "\n",
      "          7         8         9         10  \n",
      "0   0.148586  0.133727  0.106982  0.190350  \n",
      "1   0.148586  0.133727  0.106982  0.190350  \n",
      "2   0.148586  0.133727  0.106982  0.190350  \n",
      "3   0.148586  0.133727  0.106982  0.190350  \n",
      "4   0.148586  0.133727  0.106982  0.190350  \n",
      "5   0.148586  0.133727  0.106982  0.190350  \n",
      "6   0.148586  0.133727  0.106982  0.190350  \n",
      "7   0.148586  0.133727  0.106982  0.190350  \n",
      "8   0.148586  0.133727  0.106982  0.190350  \n",
      "9   0.144458  0.148586  0.133727  0.297332  \n",
      "10  0.120382  0.144458  0.148586  0.431059  \n"
     ]
    },
    {
     "data": {
      "image/png": "[encoded data removed]",
      "text/plain": [
       "<Figure size 288x288 with 1 Axes>"
      ]
     },
     "metadata": {
      "needs_background": "light"
     },
     "output_type": "display_data"
    }
   ],
   "source": [
    "P = np.zeros((S+1,S+1))\n",
    "for row in np.arange(len(P)):    \n",
    "    for col in np.arange(S+1):\n",
    "        if col==S:\n",
    "            P[row,col] = 1-np.sum(P[row,:col])            \n",
    "        else:\n",
    "            if row<=K:                \n",
    "                P[row,col] = gamma_i[col]\n",
    "            else: # row >= K+1\n",
    "                offset = row-K\n",
    "                if col<offset:\n",
    "                    P[row,col] = 0\n",
    "                else:\n",
    "                    P[row,col] = gamma_i[col-offset]    \n",
    "\n",
    "\n",
    "import pandas as pd\n",
    "import matplotlib.pyplot as plt\n",
    "\n",
    "# Visualisierung der Ratenmatrix\n",
    "def printMatrix(Q):\n",
    "    print(pd.DataFrame(Q)) # pretty display of the matrix using Pandas    \n",
    "    Q2 = Q.copy()\n",
    "    Q2[Q==0]=np.nan\n",
    "    plt.matshow(Q2,fignum=4, cmap='Blues')   \n",
    "    \n",
    "printMatrix(P)      \n",
    "    "
   ]
  },
  {
   "cell_type": "markdown",
   "metadata": {},
   "source": [
    "## Power Method\n",
    "\n",
    "A simple implementation of the power method with the start condition $ X_0 $ and transition matrix $ P $. The accuracy of the power method is achieved by comparing the expected values with accuracy $ \\epsilon = 1e-16 $.\n",
    "\n",
    "We get the steady state probabilities $ X $ at the embedding times."
   ]
  },
  {
   "cell_type": "code",
   "execution_count": 4,
   "metadata": {},
   "outputs": [
    {
     "name": "stdout",
     "output_type": "stream",
     "text": [
      "           X\n",
      "0   0.000456\n",
      "1   0.003374\n",
      "2   0.012673\n",
      "3   0.032158\n",
      "4   0.061884\n",
      "5   0.096117\n",
      "6   0.125238\n",
      "7   0.140532\n",
      "8   0.138404\n",
      "9   0.121369\n",
      "10  0.267795\n"
     ]
    },
    {
     "data": {
      "image/png": "[encoded data removed]",
      "text/plain": [
       "<Figure size 432x288 with 1 Axes>"
      ]
     },
     "metadata": {
      "needs_background": "light"
     },
     "output_type": "display_data"
    }
   ],
   "source": [
    "def powerMethod(X0, P, epsilon):    \n",
    "    X_old = np.zeros(S+1)\n",
    "    X1 = X0.copy()        \n",
    "    num = 0\n",
    "    EX_old = 0\n",
    "    EX1 = 0\n",
    "    while  ( abs(EX_old-EX1) > epsilon ) or (num<5): # at least 5 iterations        \n",
    "        X_old = X1.copy()\n",
    "        X1 = X_old @ P # matrix mulitplication        \n",
    "        num +=1            \n",
    "        EX_old = X_old @ np.arange(S+1)  # first moment\n",
    "        EX1 = X1 @ np.arange(S+1)        \n",
    "    return X1, num\n",
    "\n",
    "X0 = np.zeros(S+1)\n",
    "X0[0] = 1\n",
    "X, num =  powerMethod(X0, P, epsilon)\n",
    "\n",
    "print(pd.DataFrame({\"X\": X}))\n",
    "plt.plot(X, 'o-')\n",
    "plt.xlabel('jobs in queue X')\n",
    "plt.grid(which='major')\n",
    "plt.ylabel('probability');"
   ]
  },
  {
   "cell_type": "markdown",
   "metadata": {},
   "source": [
    "## State Probabilities at Arbitrary Times\n",
    "The power method returns the steady state probabilities at the embedding times. We are however interested in the state probabilities $x^*(i)$ at arbitrary times. Due to the PASTA property, it is $x^*(i)=x_A(i)$ for arriving customers.\n",
    "\n",
    "We define the random variable $X^*_y(i) = P(X^*=i, Y=y)$ with $X^*$ reflecting the number of customers in the waiting queue at an arbitrary time, while $Y$ indicates if the server is active and serving a batch of customers ($Y=1$) or if the server is idle ($Y=0$). The steady state probabilities are then as follows. \n",
    "\n",
    "$\n",
    " x^*_0(i) = \\frac{\\sum_{j=0}^i x(j)}{\\lambda E[B] + \\sum_{k=0}^i (\\Theta-i)x(k) } , \\quad 0 \\leq i \\leq \\Theta-1 \\\\\n",
    " x^*_1(i) = \\frac{\\sum_{j=i+1}^{\\min(K+i,S)} x(j)}{\\lambda E[B] + \\sum_{k=0}^i (\\Theta-i)x(k) } , \\quad 0 \\leq i \\leq S-1 \\\\\n",
    " x^*_1(S) = 1 - \\sum_{i=0}^{\\Theta-1} x^*_0(i) - \\sum_{i=0}^{S-1} x^*_1(i)\n",
    "$\n",
    "\n",
    "\n",
    "Further system characteristics are obtained from the probabilities in vector $\\vec{X}^{\\ast}$. The blocking probability is\n",
    "\n",
    "$\n",
    "p_B = x^{\\ast} (S) \\;.\n",
    "$\n",
    "\n",
    "The mean waiting time in the system is\n",
    "\n",
    "$\n",
    "E[W]  =  \\frac{E[X^*]}{\\lambda  (1-p_B)}  \\quad \\mbox{with}\\quad\\quad\n",
    "E[X^*] = \\sum\\limits_{k=0}^S k \\cdot  x^{\\ast} (k) \\;.\n",
    "$\n",
    "\n",
    "\n",
    "In the implementation we have the following variables:\n",
    "* $x^*_0(i)$ : `Pn0`\n",
    "* $x^*_1(i)$ : `Pn1`\n",
    "* $x^*(i)$ : `Pn`"
   ]
  },
  {
   "cell_type": "code",
   "execution_count": 5,
   "metadata": {},
   "outputs": [
    {
     "name": "stdout",
     "output_type": "stream",
     "text": [
      "mean waiting time E[W]: 0.6151\n",
      "blocking probability pB: 0.0541\n",
      "\n",
      "steady state probabilities at arbitrary times\n",
      "          X*\n",
      "0   0.084594\n",
      "1   0.101402\n",
      "2   0.138489\n",
      "3   0.131750\n",
      "4   0.123180\n",
      "5   0.109869\n",
      "6   0.092524\n",
      "7   0.073062\n",
      "8   0.053895\n",
      "9   0.037087\n",
      "10  0.054148\n"
     ]
    },
    {
     "data": {
      "image/png": "[encoded data removed]",
      "text/plain": [
       "<Figure size 432x288 with 1 Axes>"
      ]
     },
     "metadata": {
      "needs_background": "light"
     },
     "output_type": "display_data"
    }
   ],
   "source": [
    "\n",
    "Pn0 = np.zeros(Theta)\n",
    "i = np.arange(Theta)\n",
    "nenner = lam*EB + ((Theta-i)*X[i]).sum()\n",
    "for n in np.arange(Theta):\n",
    "    Pn0[n] = X[:n+1].sum()/nenner\n",
    "\n",
    "Pn1 = np.zeros(S+1)\n",
    "for n in np.arange(S):\n",
    "    bound = min(K+n,S)\n",
    "    Pn1[n] = X[n+1:bound+1].sum()/nenner\n",
    "\n",
    "Pn1[S] = 1 - Pn0.sum() - Pn1.sum()\n",
    "\n",
    "Pn = Pn1.copy()\n",
    "Pn[:Theta] += Pn0    \n",
    "\n",
    "#%%\n",
    "pB = Pn[S]\n",
    "EXstar = Pn @ np.arange(S+1)\n",
    "EW = EXstar/(lam*(1-pB))   \n",
    "print(f'mean waiting time E[W]: {EW:.4f}')\n",
    "print(f'blocking probability pB: {pB:.4f}')\n",
    "print('\\nsteady state probabilities at arbitrary times')\n",
    "print(pd.DataFrame({\"X*\": Pn}))\n",
    "\n",
    "plt.plot(X,'o-', label='x(i)')\n",
    "plt.plot(Pn,'s-', label='$x^*(i)$')\n",
    "\n",
    "plt.xlabel('number of jobs in queue')\n",
    "plt.ylabel('probability')\n",
    "plt.grid(which='major')\n",
    "plt.legend(title='state prob.');"
   ]
  }
 ],
 "metadata": {
  "ipub": {
   "titlepage": {
    "author": "Tobias Hossfeld",
    "email": "tobias.hossfeld@uni-wuerzburg.de",
    "institution": "University of W\\\"urzburg, Germany",
    "subtitle": "Chapter 5.5 Model with Batch Service and Threshold Control",
    "tagline": "https://doi.org/10.25972/WUP-978-3-95826-153-2",
    "title": "Performance Modeling and Analysis of Communication Networks - A Lecture Note"
   }
  },
  "kernelspec": {
   "display_name": "Python 3",
   "language": "python",
   "name": "python3"
  },
  "language_info": {
   "codemirror_mode": {
    "name": "ipython",
    "version": 3
   },
   "file_extension": ".py",
   "mimetype": "text/x-python",
   "name": "python",
   "nbconvert_exporter": "python",
   "pygments_lexer": "ipython3",
   "version": "3.7.10"
  }
 },
 "nbformat": 4,
 "nbformat_minor": 2
}
